{
 "cells": [
  {
   "cell_type": "code",
   "execution_count": 9,
   "metadata": {},
   "outputs": [],
   "source": [
    "import sympy as sp\n",
    "\n",
    "y0 = [10]\n",
    "m = 0.1\n",
    "g = 9.8\n",
    "k = 5.0\n",
    "l = 1.0\n",
    "\n",
    "y1 = (sp.Function('y1'))\n",
    "y2 = (sp.Function('y2'))\n",
    "t = sp.symbols('t')\n",
    "\n",
    "dl1 = y0[0] - y1(t) - l\n",
    "dl2 = y1(t) - y2(t) - l\n",
    "\n",
    "eq = [sp.Eq( k * (dl1 - dl2) - m * g, m * y1(t).diff(t, t)), sp.Eq( k * dl2 - m * g, m * y2(t).diff(t, t))]\n",
    "sol = sp.dsolve(eq, ics={y1(0): 9, y2(0):7, sp.diff(y1(t), t).subs(t,0): 0, sp.diff(y2(t), t).subs(t,0): 0})"
   ]
  },
  {
   "cell_type": "code",
   "execution_count": 10,
   "metadata": {},
   "outputs": [
    {
     "name": "stdout",
     "output_type": "stream",
     "text": [
      "5.69393985481387*sin(4.37016024448821*t)**2 + 2.91406014518613*sin(11.4412280563537*t)**2 + 5.69393985481387*cos(4.37016024448821*t)**2 - 0.0759058660640006*cos(4.37016024448821*t) + 2.91406014518613*cos(11.4412280563537*t)**2 + 0.467905866063956*cos(11.4412280563537*t)\n"
     ]
    }
   ],
   "source": [
    "sol_0t = sol[0].rhs\n",
    "print(sol_0t)"
   ]
  },
  {
   "cell_type": "code",
   "execution_count": 11,
   "metadata": {},
   "outputs": [
    {
     "name": "stdout",
     "output_type": "stream",
     "text": [
      "9.21298821498648*sin(4.37016024448821*t)**2 - 1.80098821498648*sin(11.4412280563537*t)**2 + 9.21298821498648*cos(4.37016024448821*t)**2 - 0.12281827123705*cos(4.37016024448821*t) - 1.80098821498648*cos(11.4412280563537*t)**2 - 0.289181728762981*cos(11.4412280563537*t)\n"
     ]
    }
   ],
   "source": [
    "sol_1t = sol[1].rhs\n",
    "print(sol_1t)"
   ]
  },
  {
   "cell_type": "code",
   "execution_count": 12,
   "metadata": {},
   "outputs": [
    {
     "data": {
      "text/plain": [
       "0"
      ]
     },
     "execution_count": 12,
     "metadata": {},
     "output_type": "execute_result"
    }
   ],
   "source": [
    "import math\n",
    "def addLines(xxdata, xydata):\n",
    "    alpha = 0.05\n",
    "    n = 9\n",
    "    xxdata = [sp.re(i) for i in xxdata]\n",
    "    xydata = [sp.re(i) for i in xydata]\n",
    "    xdata = [xxdata[0]]\n",
    "    ydata = [xydata[0]]\n",
    "    for i in range(1, len(xxdata)):\n",
    "        dx = xxdata[i] - xxdata[i-1]\n",
    "        dy = xydata[i] - xydata[i-1]\n",
    "        angle = math.atan2(dy, dx)\n",
    "        for j in range(1, n):\n",
    "            xdata.append(xxdata[i-1] + j * dx/n + alpha * math.sin(angle) if j % 2 == 0 else xxdata[i-1] + j * dx/n - alpha * math.sin(angle))\n",
    "            ydata.append(xydata[i-1] + j * dy/n - alpha * math.cos(angle) if j % 2 == 0 else xydata[i-1] + j * dy/n + alpha * math.cos(angle))\n",
    "        xdata.append(xxdata[i])\n",
    "        ydata.append(xydata[i])\n",
    "    return [xdata, ydata]\n",
    "\n",
    "import sys\n",
    "import matplotlib\n",
    "matplotlib.use('Qt5Agg')\n",
    "\n",
    "from PyQt5 import QtCore, QtWidgets\n",
    "\n",
    "from matplotlib.backends.backend_qt5agg import FigureCanvasQTAgg as FigureCanvas\n",
    "from matplotlib.figure import Figure\n",
    "\n",
    "class MplCanvas(FigureCanvas):\n",
    "\n",
    "    def __init__(self, parent=None, width=5, height=4, dpi=100):\n",
    "        fig = Figure(figsize=(width, height), dpi=dpi)\n",
    "        self.axes = fig.add_subplot(111)\n",
    "        super(MplCanvas, self).__init__(fig)\n",
    "\n",
    "\n",
    "\n",
    "class MainWindow(QtWidgets.QMainWindow):\n",
    "\n",
    "    def __init__(self, *args, **kwargs):\n",
    "        super(MainWindow, self).__init__(*args, **kwargs)\n",
    "\n",
    "        self.canvas = MplCanvas(self, width=5, height=4, dpi=100)\n",
    "        self.setCentralWidget(self.canvas)\n",
    "        self.t = 0\n",
    "        self.dt = 0.01\n",
    "        self.update_plot()\n",
    "\n",
    "        self.show()\n",
    "\n",
    "        # Setup a timer to trigger the redraw by calling update_plot.\n",
    "        self.timer = QtCore.QTimer()\n",
    "        self.timer.setInterval(10)\n",
    "        self.timer.timeout.connect(self.update_plot)\n",
    "        self.timer.start()\n",
    "\n",
    "    def update_plot(self):\n",
    "        # Drop off the first y element, append a new one.\n",
    "        # self.ydata = self.ydata[1:] + [random.randint(0, 10)]\n",
    "        t_result = [10, sol_0t.subs({t: self.t}), sol_1t.subs({t: self.t})]\n",
    "        self.t += self.dt\n",
    "        self.xdata, self.ydata = addLines([0, 0, 0], t_result)\n",
    "        \n",
    "        # Clear the canvas\n",
    "        self.canvas.axes.cla()\n",
    "        # Set axes size\n",
    "        self.canvas.axes.set_xbound(-1, 1)\n",
    "        self.canvas.axes.set_ybound(10, 5)\n",
    "        # Draw\n",
    "        self.canvas.axes.plot(self.xdata, self.ydata, 'r', scalex=False, scaley=False, )\n",
    "        # Trigger the canvas to update and redraw.\n",
    "        self.canvas.draw()\n",
    "\n",
    "app = QtWidgets.QApplication(sys.argv)\n",
    "w = MainWindow()\n",
    "app.exec_()"
   ]
  }
 ],
 "metadata": {
  "kernelspec": {
   "display_name": "Python 3",
   "language": "python",
   "name": "python3"
  },
  "language_info": {
   "codemirror_mode": {
    "name": "ipython",
    "version": 3
   },
   "file_extension": ".py",
   "mimetype": "text/x-python",
   "name": "python",
   "nbconvert_exporter": "python",
   "pygments_lexer": "ipython3",
   "version": "3.10.4"
  },
  "orig_nbformat": 4,
  "vscode": {
   "interpreter": {
    "hash": "9a2ffa41a391d2ca26903a814e90d0b079550986fcb7a35b43c4921010d070cb"
   }
  }
 },
 "nbformat": 4,
 "nbformat_minor": 2
}
