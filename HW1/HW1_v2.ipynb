{
 "cells": [
  {
   "cell_type": "code",
   "execution_count": 1,
   "metadata": {},
   "outputs": [
    {
     "name": "stderr",
     "output_type": "stream",
     "text": [
      "C:\\Users\\lumidelta\\AppData\\Local\\Temp\\ipykernel_25496\\2269153870.py:74: SymPyDeprecationWarning: \n",
      "\n",
      "non-Expr objects in a Matrix is deprecated. Matrix represents\n",
      "a mathematical matrix. To represent a container of non-numeric\n",
      "entities, Use a list of lists, TableForm, NumPy array, or some\n",
      "other data structure instead.\n",
      "\n",
      "See https://docs.sympy.org/latest/explanation/active-deprecations.html#deprecated-non-expr-in-matrix\n",
      "for details.\n",
      "\n",
      "This has been deprecated since SymPy version 1.9. It\n",
      "will be removed in a future version of SymPy.\n",
      "\n",
      "  xi = Matrix(x)\n"
     ]
    }
   ],
   "source": [
    "#%%\n",
    "import sympy as sp\n",
    "from sympy.matrices import Matrix\n",
    "\n",
    "N = 3\n",
    "m = 0.1\n",
    "g = 9.8\n",
    "k = 5.0\n",
    "l = 1.0\n",
    "x0 = [0]\n",
    "y0 = [- l - N * m * g / k]\n",
    "for i in range(1, N):\n",
    "    y0.append(y0[i-1] - l - (N - i + 1) * m * g / k)\n",
    "    x0.append(0)\n",
    "\n",
    "Mx = [[0 for _ in range(N)] for _ in range(N)]\n",
    "My = [[0 for _ in range(N)] for _ in range(N)]\n",
    "for i in range(0, N):\n",
    "    for j in range(0, N):\n",
    "        if (j == i - 1):\n",
    "            Mx[i][j] = k * (1 - l/abs(y0[i] - y0[i - 1]))\n",
    "            My[i][j] = k\n",
    "        elif (j == i):\n",
    "            if i == 0:\n",
    "                Mx[i][j] = -k * (1 - l/abs(y0[i] -         0)) - k * (1 - l/abs(y0[i] - y0[i + 1]))\n",
    "                My[i][j] = -2 * k\n",
    "            elif i != N-1:\n",
    "                Mx[i][j] = -k * (1 - l/abs(y0[i] - y0[i - 1])) - k * (1 - l/abs(y0[i] - y0[i + 1]))\n",
    "                My[i][j] = -2 * k\n",
    "            else:\n",
    "                Mx[i][j] = -k * (1 - l/abs(y0[i] - y0[i - 1]))\n",
    "                My[i][j] = -k\n",
    "        elif (j == i + 1):\n",
    "            Mx[i][j] = k * (1 - l/abs(y0[i] - y0[i + 1]))\n",
    "            My[i][j] = k\n",
    "        else:\n",
    "            Mx[i][j] = 0\n",
    "\n",
    "M = [[0 for _ in range(4*N)] for _ in range(4*N)]\n",
    "B = [[0 for _ in range(4*N)] for _ in range(4*N)]\n",
    "\n",
    "for i in range(4*N):\n",
    "    if (i < 2 * N):\n",
    "        M[2 * N + i][i] = 1\n",
    "    elif (i < 3 * N):\n",
    "        for j in range(N):\n",
    "            M[j][i] = Mx[j][i % N]\n",
    "    else:\n",
    "        for j in range(N):\n",
    "            M[N + j][i] = Mx[j][i % N]\n",
    "            B[N + j][i] = Mx[j][i % N]\n",
    "\n",
    "\n",
    "# for i in range(N/2):\n",
    "# Проверка наших уравнений\n",
    "x = []\n",
    "x0 = []\n",
    "eqs = []\n",
    "for i in range(N):\n",
    "    x.append(sp.Function('vx' + str(i)))\n",
    "    x0.append(0)\n",
    "for i in range(N):\n",
    "    x.append(sp.Function('vy' + str(i)))\n",
    "    x0.append(0)\n",
    "for i in range(N):\n",
    "    x.append(sp.Function('x' + str(i)))\n",
    "    x0.append(0)\n",
    "for i in range(N):\n",
    "    x.append(sp.Function('y' + str(i)))\n",
    "    x0.append(y0[i])\n",
    "\n",
    "\n",
    "t = sp.symbols('t')\n",
    "xi = Matrix(x)\n",
    "x0 = Matrix(x0)\n",
    "\n",
    "for i in range(len(x)):\n",
    "    Mi = Matrix(M[i])\n",
    "    res = 0\n",
    "    for j in range(len(x)):\n",
    "        res = res + Mi[j] * x[j](t) + B[i][j] * x0[j]\n",
    "    eqs.append(sp.Eq(x[i](t).diff(t), res))\n",
    "\n",
    "# Initial conditions\n",
    "y_ics = y0\n",
    "ics = {}\n",
    "# Velocities and x's\n",
    "for i in range(3*N):\n",
    "    ics[x[i](0.0)] = 0.0\n",
    "# y's\n",
    "for i in range(3*N, 4*N):\n",
    "    ics[x[i](0.0)] = y_ics[i-3*N]\n"
   ]
  },
  {
   "cell_type": "code",
   "execution_count": 2,
   "metadata": {},
   "outputs": [
    {
     "name": "stdout",
     "output_type": "stream",
     "text": [
      "('factorable', 'nth_algebraic', 'separable', '1st_exact', '1st_linear', 'Bernoulli', '1st_power_series', 'lie_group', 'nth_linear_constant_coeff_variation_of_parameters', 'nth_linear_euler_eq_nonhomogeneous_variation_of_parameters', 'nth_algebraic_Integral', 'separable_Integral', '1st_exact_Integral', '1st_linear_Integral', 'Bernoulli_Integral', 'nth_linear_constant_coeff_variation_of_parameters_Integral', 'nth_linear_euler_eq_nonhomogeneous_variation_of_parameters_Integral')\n"
     ]
    }
   ],
   "source": [
    "print(sp.classify_ode(eqs[0]))\n",
    "sol = sp.solvers.ode.systems.dsolve_system(eqs)"
   ]
  },
  {
   "cell_type": "code",
   "execution_count": null,
   "metadata": {},
   "outputs": [],
   "source": []
  }
 ],
 "metadata": {
  "kernelspec": {
   "display_name": "Python 3",
   "language": "python",
   "name": "python3"
  },
  "language_info": {
   "codemirror_mode": {
    "name": "ipython",
    "version": 3
   },
   "file_extension": ".py",
   "mimetype": "text/x-python",
   "name": "python",
   "nbconvert_exporter": "python",
   "pygments_lexer": "ipython3",
   "version": "3.10.4"
  },
  "orig_nbformat": 4,
  "vscode": {
   "interpreter": {
    "hash": "9a2ffa41a391d2ca26903a814e90d0b079550986fcb7a35b43c4921010d070cb"
   }
  }
 },
 "nbformat": 4,
 "nbformat_minor": 2
}
