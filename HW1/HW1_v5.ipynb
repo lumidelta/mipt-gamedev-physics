{
 "cells": [
  {
   "cell_type": "code",
   "execution_count": null,
   "metadata": {},
   "outputs": [],
   "source": [
    "import sympy as sp\n",
    "import math\n",
    "y0 = [10]\n",
    "x0 = [0]\n",
    "m = 0.1\n",
    "g = 9.8\n",
    "k = 5.0\n",
    "l = 1.0\n",
    "\n",
    "x1 = (sp.Function('x1'))\n",
    "x2 = (sp.Function('x2'))\n",
    "y1 = (sp.Function('y1'))\n",
    "y2 = (sp.Function('y2'))\n",
    "t = sp.symbols('t')\n",
    "\n",
    "sqrt1 = ((x1(t) - x0[0])**2 + (y1(t) - y0[0])**2)**0.5\n",
    "sqrt2 = ((x1(t) - x2(t))**2 + (y1(t) - y2(t))**2)**0.5\n",
    "eq1x = sp.Eq(-k*(sqrt1 - l) * (x1(t) - x0[0])/sqrt1 -k * (sqrt1 - l) * (x2(t) - x1(t))/sqrt1, m * x1(t).diff(t, t))\n",
    "eq2x = sp.Eq(-k * (sqrt1 - l) * (x1(t) - x2(t))/sqrt1, m * x2(t).diff(t, t))\n",
    "eq1y = sp.Eq(-k*(sqrt1 - l) * (x1(t) - x0[0])/sqrt1 -k * (sqrt1 - l) * (x2(t) - x1(t))/sqrt1 - m * g, m * y1(t).diff(t, t))\n",
    "eq2y = sp.Eq(-k * (sqrt1 - l) * (y1(t) - y2(t))/sqrt1 - m * g, m * y2(t).diff(t, t))\n",
    "ics={y1(0): 9, x1(0): 0.1, y2(0):7, x2(0): 0, sp.diff(y1(t), t).subs(t,0): 0, sp.diff(y2(t), t).subs(t,0): 0, sp.diff(x1(t), t).subs(t,0): 0, sp.diff(x2(t), t).subs(t,0): 0}\n",
    "sol = sp.solvers.ode.systems.dsolve_system([eq1x, eq2x, eq1y, eq2y], ics=ics)"
   ]
  }
 ],
 "metadata": {
  "kernelspec": {
   "display_name": "Python 3",
   "language": "python",
   "name": "python3"
  },
  "language_info": {
   "name": "python",
   "version": "3.10.4"
  },
  "orig_nbformat": 4,
  "vscode": {
   "interpreter": {
    "hash": "9a2ffa41a391d2ca26903a814e90d0b079550986fcb7a35b43c4921010d070cb"
   }
  }
 },
 "nbformat": 4,
 "nbformat_minor": 2
}
